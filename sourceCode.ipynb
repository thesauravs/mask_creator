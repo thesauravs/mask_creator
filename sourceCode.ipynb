{
 "cells": [
  {
   "cell_type": "code",
   "execution_count": 1,
   "metadata": {},
   "outputs": [],
   "source": [
    "try:\n",
    "    import ipywidgets as widgets\n",
    "    from ipywidgets import interact, interactive, fixed, interact_manual\n",
    "    from IPython.display import display, clear_output\n",
    "    import cv2\n",
    "    import numpy as np\n",
    "    import matplotlib.pyplot as plt\n",
    "except:\n",
    "    !pip install opencv-python,numpy,matplotlib,ipywidgets\n",
    "    \n",
    "    import ipywidgets as widgets\n",
    "    from ipywidgets import interact, interactive, fixed, interact_manual\n",
    "    from IPython.display import display, clear_output\n",
    "    import cv2\n",
    "    import numpy as np\n",
    "    import matplotlib.pyplot as plt"
   ]
  },
  {
   "cell_type": "code",
   "execution_count": 49,
   "metadata": {},
   "outputs": [
    {
     "data": {
      "application/vnd.jupyter.widget-view+json": {
       "model_id": "060f15eb2ad0463b9fc94343d42edce8",
       "version_major": 2,
       "version_minor": 0
      },
      "text/plain": [
       "HTML(value='<h1 style=\"color:Green\"><center> Welcome to Mask Creator </center></h1>')"
      ]
     },
     "metadata": {},
     "output_type": "display_data"
    }
   ],
   "source": [
    "# Title\n",
    "\n",
    "title = widgets.HTML('<h1 style=\"color:Green\"><center> Welcome to Mask Creator </center></h1>')\n",
    "title"
   ]
  },
  {
   "cell_type": "code",
   "execution_count": 50,
   "metadata": {},
   "outputs": [
    {
     "data": {
      "application/vnd.jupyter.widget-view+json": {
       "model_id": "536daa72ee024114bd971b89e4c0d98b",
       "version_major": 2,
       "version_minor": 0
      },
      "text/plain": [
       "HBox(children=(HTML(value='<strong> Please select the file to upload: </strong>', layout=Layout(padding='0 600…"
      ]
     },
     "metadata": {},
     "output_type": "display_data"
    },
    {
     "data": {
      "application/vnd.jupyter.widget-view+json": {
       "model_id": "0890f26db6164c6eafcb997f1e64f0b6",
       "version_major": 2,
       "version_minor": 0
      },
      "text/plain": [
       "HTML(value='<h5><center> Successfully Uploaded: TN2_ARIY-2.2.JPG </center></h5>')"
      ]
     },
     "metadata": {},
     "output_type": "display_data"
    }
   ],
   "source": [
    "# Upload\n",
    "selectMsg = widgets.HTML('<strong> Please select the file to upload: </strong>', layout={'padding': '0 600px 0 0'})\n",
    "\n",
    "upload = widgets.FileUpload(accept='image/*',  # Accepted file extension e.g. '.txt', '.pdf', 'image/*', 'image/*,.pdf'\n",
    "                            multiple=False  # True to accept multiple files upload else False\n",
    "                          )\n",
    "uploadPane = widgets.HBox([selectMsg, upload])\n",
    "uploadPane"
   ]
  },
  {
   "cell_type": "code",
   "execution_count": 59,
   "metadata": {},
   "outputs": [
    {
     "data": {
      "application/vnd.jupyter.widget-view+json": {
       "model_id": "2a7ff27b277740a28804c578540c14a7",
       "version_major": 2,
       "version_minor": 0
      },
      "text/plain": [
       "VBox(children=(Text(value='test.jpg', description='Filename:', placeholder='Your Filename'), HBox(children=(In…"
      ]
     },
     "metadata": {},
     "output_type": "display_data"
    }
   ],
   "source": [
    "# Create slider\n",
    "\n",
    "textBox = widgets.Text(value='test.jpg', placeholder='Your Filename', description='Filename:',disabled=False)\n",
    "\n",
    "# widgets.jslink((textBox,'value'), (upload, 'data'))\n",
    "\n",
    "low_hue = widgets.IntSlider(min=0, max=179, step=1, description='Low_Hue', layout={'width':'40%'})\n",
    "low_sat = widgets.IntSlider(min=0, max=255, step=1, description='Low_Sat', layout={'width':'40%'})\n",
    "low_val = widgets.IntSlider(min=0, max=255, step=1, description='Low_Val', layout={'width':'40%'})\n",
    "lowerScale = widgets.HBox([low_hue, low_sat, low_val])\n",
    "\n",
    "upp_hue = widgets.IntSlider(value=179, min=0, max=179, step=1, description='Upp_Hue', layout={'width':'40%'})\n",
    "upp_sat = widgets.IntSlider(value=255, min=0, max=255, step=1, description='Upp_Sat', layout={'width':'40%'})\n",
    "upp_val = widgets.IntSlider(value=255, min=0, max=255, step=1, description='Upp_Val', layout={'width':'40%'})\n",
    "upperScale = widgets.HBox([upp_hue, upp_sat, upp_val])\n",
    "\n",
    "meter = widgets.VBox([textBox, lowerScale, upperScale])\n",
    "\n",
    "meter"
   ]
  },
  {
   "cell_type": "code",
   "execution_count": 60,
   "metadata": {},
   "outputs": [],
   "source": [
    "def on_upload(change):\n",
    "    filename = upload.metadata[0]['name']\n",
    "    display(widgets.HTML(f'<h5><center> Successfully Uploaded: {filename} </center></h5>'))\n",
    "    textBox.value = filename  # upload.metadata[0]['name']\n",
    "    upload.disabled = True\n",
    "    \n",
    "upload.observe(on_upload, 'data')"
   ]
  },
  {
   "cell_type": "code",
   "execution_count": 61,
   "metadata": {},
   "outputs": [],
   "source": [
    "def show(imgRGB, mask, result):\n",
    "    plt.figure(figsize=(20, 20))\n",
    "    plt.subplot(131), plt.imshow(imgRGB), plt.title('Original', fontsize = 30)\n",
    "    plt.subplot(132), plt.imshow(mask, cmap='gray'), plt.title('Mask', fontsize = 30)\n",
    "    plt.subplot(133), plt.imshow(result), plt.title('Mask Applied', fontsize = 30)\n",
    "    plt.tight_layout()\n",
    "    plt.show"
   ]
  },
  {
   "cell_type": "code",
   "execution_count": 62,
   "metadata": {},
   "outputs": [],
   "source": [
    "def createMask(filename, \n",
    "               low_hue, low_sat, low_val, \n",
    "               upp_hue, upp_sat, upp_val, plot=True):\n",
    "    \n",
    "#     filename = textBox\n",
    "    # reading the file as image\n",
    "    image = cv2.imread(filename)\n",
    "    # converting into RGB format for visualization\n",
    "    imgRGB = cv2.cvtColor(image, cv2.COLOR_BGR2RGB)\n",
    "    # converting into HSV format\n",
    "    hsv = cv2.cvtColor(image, cv2.COLOR_BGR2HSV)\n",
    "    \n",
    "    # creating the bound for HSV value\n",
    "    lower = np.array([low_hue, low_sat, low_sat])\n",
    "    upper = np.array([upp_hue, upp_sat, upp_val])\n",
    "    \n",
    "    # creating mask \n",
    "    mask = cv2.inRange(hsv, lower, upper)\n",
    "    \n",
    "    # mask when applied to image\n",
    "    result = cv2.bitwise_and(imgRGB, imgRGB, mask=mask)\n",
    "    \n",
    "    # for visualization\n",
    "    if plot == True:\n",
    "        show(imgRGB, mask, result)\n",
    "    \n",
    "    return mask, result\n",
    "    \n",
    "masking = widgets.interactive_output(createMask,\n",
    "                              {'filename':textBox,\n",
    "                               'low_hue':low_hue, 'low_sat':low_sat, 'low_val':low_val,\n",
    "                               'upp_hue':upp_hue, 'upp_sat':upp_sat, 'upp_val':upp_val})\n",
    "\n",
    "# display(meter, masking)"
   ]
  },
  {
   "cell_type": "code",
   "execution_count": 63,
   "metadata": {},
   "outputs": [
    {
     "data": {
      "application/vnd.jupyter.widget-view+json": {
       "model_id": "7a94fa69afb0450288d0cf7a158864bb",
       "version_major": 2,
       "version_minor": 0
      },
      "text/plain": [
       "HBox(children=(Button(button_style='success', description='Save Mask', icon='floppy-o', style=ButtonStyle(), t…"
      ]
     },
     "metadata": {},
     "output_type": "display_data"
    }
   ],
   "source": [
    "saveMask = widgets.Button(description='Save Mask',\n",
    "                          disabled=False,\n",
    "                          button_style='success', # 'success', 'info', 'warning', 'danger' or ''\n",
    "                          tooltip='Save Mask',\n",
    "                          icon='floppy-o' # (FontAwesome names without the `fa-` prefix)\n",
    "                         )\n",
    "\n",
    "saveROI = widgets.Button(description='Save ROI',\n",
    "                          disabled=False,\n",
    "                          button_style='warning', # 'success', 'info', 'warning', 'danger' or ''\n",
    "                          tooltip='Background Removed',\n",
    "                          icon='floppy-o' # (FontAwesome names without the `fa-` prefix)\n",
    "                         )\n",
    "\n",
    "clear = widgets.Button(description='Clear',\n",
    "                          disabled=False,\n",
    "                          button_style='danger', # 'success', 'info', 'warning', 'danger' or ''\n",
    "                          tooltip='Clear',\n",
    "                          icon='eraser' # (FontAwesome names without the `fa-` prefix)\n",
    "                         )\n",
    "\n",
    "saveBoxes = widgets.HBox([saveMask, saveROI, clear], layout={'width':'100%', \n",
    "                                                                'padding':'0px 0px 0px 600px', # top right bottom left \n",
    "                                                                'align':'right'}) \n",
    "saveBoxes"
   ]
  },
  {
   "cell_type": "code",
   "execution_count": 64,
   "metadata": {},
   "outputs": [],
   "source": [
    "def clickSaveMask(b):\n",
    "    mask, _ = createMask(textBox.value,\n",
    "                         low_hue.value, low_sat.value, low_val.value,\n",
    "                         upp_hue.value, upp_sat.value, upp_val.value, plot=False)\n",
    "    \n",
    "#     mask = np.where(mask < 50, 0, 1)          # changing the array into two categories 0: background 1: object\n",
    "    cv2.imwrite('../Masks/' + textBox.value, mask)\n",
    "    print(f'Successfully saved {textBox.value} in folder \"Masks\".')\n",
    "\n",
    "def clickSaveROI(b):\n",
    "    _, result = createMask(textBox.value,\n",
    "                         low_hue.value, low_sat.value, low_val.value,\n",
    "                         upp_hue.value, upp_sat.value, upp_val.value, plot=False)\n",
    "    result = cv2.cvtColor(result, cv2.COLOR_RGB2BGR)\n",
    "    cv2.imwrite('../ROI/' + textBox.value, result)\n",
    "    print(f'Successfully saved {textBox.value} in folder \"ROI\".')\n",
    "\n",
    "def clickClear(b):\n",
    "#     upload._counter = 0\n",
    "    clear_output()\n",
    "    %run sourceCode.ipynb\n",
    "\n",
    "saveMask.on_click(clickSaveMask)\n",
    "saveROI.on_click(clickSaveROI)\n",
    "clear.on_click(clickClear)"
   ]
  },
  {
   "cell_type": "markdown",
   "metadata": {},
   "source": [
    "# Final and Display"
   ]
  },
  {
   "cell_type": "code",
   "execution_count": 65,
   "metadata": {},
   "outputs": [],
   "source": [
    "final = widgets.VBox([title,\n",
    "                      uploadPane,\n",
    "                      meter,\n",
    "                      masking,\n",
    "                      saveBoxes,\n",
    "                     ])"
   ]
  },
  {
   "cell_type": "code",
   "execution_count": 66,
   "metadata": {},
   "outputs": [
    {
     "data": {
      "application/vnd.jupyter.widget-view+json": {
       "model_id": "20bc2526c8fb4f1cb35082f144f93360",
       "version_major": 2,
       "version_minor": 0
      },
      "text/plain": [
       "VBox(children=(HTML(value='<h1 style=\"color:Green\"><center> Welcome to Mask Creator </center></h1>'), HBox(chi…"
      ]
     },
     "metadata": {},
     "output_type": "display_data"
    },
    {
     "data": {
      "application/vnd.jupyter.widget-view+json": {
       "model_id": "7c3aa8361f0f4d43867141cbff5bdd07",
       "version_major": 2,
       "version_minor": 0
      },
      "text/plain": [
       "HTML(value='<h5><center> Successfully Uploaded: TN2_ARIY-2.2.JPG </center></h5>')"
      ]
     },
     "metadata": {},
     "output_type": "display_data"
    }
   ],
   "source": [
    "display(final)"
   ]
  },
  {
   "cell_type": "markdown",
   "metadata": {},
   "source": [
    "# Yayyyyyy!"
   ]
  }
 ],
 "metadata": {
  "kernelspec": {
   "display_name": "Python 3",
   "language": "python",
   "name": "python3"
  },
  "language_info": {
   "codemirror_mode": {
    "name": "ipython",
    "version": 3
   },
   "file_extension": ".py",
   "mimetype": "text/x-python",
   "name": "python",
   "nbconvert_exporter": "python",
   "pygments_lexer": "ipython3",
   "version": "3.8.3"
  }
 },
 "nbformat": 4,
 "nbformat_minor": 4
}
