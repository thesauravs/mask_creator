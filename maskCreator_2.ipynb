{
 "cells": [
  {
   "cell_type": "code",
   "execution_count": 1,
   "metadata": {},
   "outputs": [],
   "source": [
    "import ipywidgets as widgets\n",
    "from ipywidgets import interact, interactive, fixed, interact_manual\n",
    "from IPython.display import display, clear_output\n",
    "\n",
    "import os\n",
    "import cv2\n",
    "import numpy as np\n",
    "import matplotlib.pyplot as plt"
   ]
  },
  {
   "cell_type": "code",
   "execution_count": 2,
   "metadata": {},
   "outputs": [
    {
     "data": {
      "application/vnd.jupyter.widget-view+json": {
       "model_id": "932a3b2fd7674b78b2aa1eb626f6c54b",
       "version_major": 2,
       "version_minor": 0
      },
      "text/plain": [
       "HTML(value='<h1 style=\"color:Green\"><center> Welcome to Mask Creator </center></h1>')"
      ]
     },
     "metadata": {},
     "output_type": "display_data"
    }
   ],
   "source": [
    "# Title\n",
    "\n",
    "title = widgets.HTML('<h1 style=\"color:Green\"><center> Welcome to Mask Creator </center></h1>')\n",
    "title"
   ]
  },
  {
   "cell_type": "code",
   "execution_count": 3,
   "metadata": {},
   "outputs": [
    {
     "data": {
      "application/vnd.jupyter.widget-view+json": {
       "model_id": "134c3963b147427fa980040882c3de34",
       "version_major": 2,
       "version_minor": 0
      },
      "text/plain": [
       "HBox(children=(HTML(value='<strong> Please select the file to upload: </strong>', layout=Layout(padding='0 600…"
      ]
     },
     "metadata": {},
     "output_type": "display_data"
    }
   ],
   "source": [
    "# Upload\n",
    "selectMsg = widgets.HTML('<strong> Please select the file to upload: </strong>', layout={'padding': '0 600px 0 0'})\n",
    "\n",
    "upload = widgets.FileUpload(accept='image/*',  # Accepted file extension e.g. '.txt', '.pdf', 'image/*', 'image/*,.pdf'\n",
    "                            multiple=True  # True to accept multiple files upload else False\n",
    "                          )\n",
    "uploadPane = widgets.HBox([selectMsg, upload])\n",
    "uploadPane"
   ]
  },
  {
   "cell_type": "code",
   "execution_count": 4,
   "metadata": {},
   "outputs": [],
   "source": [
    "# upload.metadata[0]['name']\n",
    "# upload.multiple"
   ]
  },
  {
   "cell_type": "code",
   "execution_count": 5,
   "metadata": {},
   "outputs": [
    {
     "data": {
      "application/vnd.jupyter.widget-view+json": {
       "model_id": "4fd9b4579f6c4eb3892da8f642d541e9",
       "version_major": 2,
       "version_minor": 0
      },
      "text/plain": [
       "VBox(children=(HBox(children=(Text(value='/Users/thesauravs/Desktop/sbtProjext/codes', description='Path', lay…"
      ]
     },
     "metadata": {},
     "output_type": "display_data"
    }
   ],
   "source": [
    "# Create slider\n",
    "sourceFolder = widgets.Text(value=os.getcwd(), placeholder='Path', description='Path', disabled=False)\n",
    "sourceFolder.layout = {'width':'65%'}\n",
    "textBox = widgets.Text(value='test.jpg', placeholder='Filename', description='Filename:',disabled=False)\n",
    "entirePath = widgets.HBox([sourceFolder, textBox])\n",
    "# widgets.jslink((textBox,'value'), (upload, 'data'))\n",
    "\n",
    "low_hue = widgets.IntSlider(min=0, max=179, step=1, description='Low_Hue', layout={'width':'40%'})\n",
    "low_sat = widgets.IntSlider(min=0, max=255, step=1, description='Low_Sat', layout={'width':'40%'})\n",
    "low_val = widgets.IntSlider(min=0, max=255, step=1, description='Low_Val', layout={'width':'40%'})\n",
    "lowerScale = widgets.HBox([low_hue, low_sat, low_val])\n",
    "\n",
    "upp_hue = widgets.IntSlider(value=179, min=0, max=179, step=1, description='Upp_Hue', layout={'width':'40%'})\n",
    "upp_sat = widgets.IntSlider(value=255, min=0, max=255, step=1, description='Upp_Sat', layout={'width':'40%'})\n",
    "upp_val = widgets.IntSlider(value=255, min=0, max=255, step=1, description='Upp_Val', layout={'width':'40%'})\n",
    "upperScale = widgets.HBox([upp_hue, upp_sat, upp_val])\n",
    "\n",
    "meter = widgets.VBox([entirePath, lowerScale, upperScale])\n",
    "\n",
    "meter"
   ]
  },
  {
   "cell_type": "code",
   "execution_count": 6,
   "metadata": {},
   "outputs": [],
   "source": [
    "def on_upload(change):\n",
    "    filename = upload.metadata[0]['name']\n",
    "    display(widgets.HTML(f'<h5><center> Successfully Uploaded: {filename} </center></h5>'))\n",
    "    textBox.value = filename  # upload.metadata[0]['name']\n",
    "#     upload.disabled = True\n",
    "    \n",
    "upload.observe(on_upload, 'data')"
   ]
  },
  {
   "cell_type": "code",
   "execution_count": 7,
   "metadata": {},
   "outputs": [],
   "source": [
    "def show(imgRGB, mask, result):\n",
    "    plt.figure(figsize=(20, 20))\n",
    "    plt.subplot(131), plt.imshow(imgRGB), plt.title('Original', fontsize = 30)\n",
    "    plt.subplot(132), plt.imshow(mask, cmap='gray'), plt.title('Mask', fontsize = 30)\n",
    "    plt.subplot(133), plt.imshow(result), plt.title('Mask Applied', fontsize = 30)\n",
    "    plt.tight_layout()\n",
    "    plt.show"
   ]
  },
  {
   "cell_type": "code",
   "execution_count": 8,
   "metadata": {},
   "outputs": [],
   "source": [
    "def smooth(photo):\n",
    "    # kernel for erosion and dilation\n",
    "    kernel = np.ones((3,3),np.uint8)\n",
    "    \n",
    "    erode = cv2.erode(photo,kernel,iterations = 1)\n",
    "    dilate = cv2.dilate(erode,kernel,iterations = 1)\n",
    "    return dilate    "
   ]
  },
  {
   "cell_type": "code",
   "execution_count": 9,
   "metadata": {},
   "outputs": [],
   "source": [
    "def createMask(filename, \n",
    "               low_hue, low_sat, low_val, \n",
    "               upp_hue, upp_sat, upp_val, plot=True):\n",
    "    \n",
    "#     filename = textBox\n",
    "    # reading the file as image\n",
    "    image = cv2.imread(filename)\n",
    "    # converting into RGB format for visualization\n",
    "    imgRGB = cv2.cvtColor(image, cv2.COLOR_BGR2RGB)\n",
    "    # converting into HSV format\n",
    "    hsv = cv2.cvtColor(image, cv2.COLOR_BGR2HSV)\n",
    "    \n",
    "    # creating the bound for HSV value\n",
    "    lower = np.array([low_hue, low_sat, low_sat])\n",
    "    upper = np.array([upp_hue, upp_sat, upp_val])\n",
    "    \n",
    "    # creating mask \n",
    "    mask = cv2.inRange(hsv, lower, upper)\n",
    "    mask = smooth(mask)\n",
    "    \n",
    "    # mask when applied to image\n",
    "    result = cv2.bitwise_and(imgRGB, imgRGB, mask=mask)\n",
    "    result = smooth(result)\n",
    "    \n",
    "    # for visualization\n",
    "    if plot == True:\n",
    "        show(imgRGB, mask, result)\n",
    "    \n",
    "    return mask, result\n",
    "    \n",
    "masking = widgets.interactive_output(createMask,\n",
    "                              {'filename':textBox,\n",
    "                               'low_hue':low_hue, 'low_sat':low_sat, 'low_val':low_val,\n",
    "                               'upp_hue':upp_hue, 'upp_sat':upp_sat, 'upp_val':upp_val})\n",
    "\n",
    "# display(meter, masking)"
   ]
  },
  {
   "cell_type": "code",
   "execution_count": 10,
   "metadata": {},
   "outputs": [
    {
     "data": {
      "application/vnd.jupyter.widget-view+json": {
       "model_id": "79f3e837e10f466ba844cdbd1bd8263d",
       "version_major": 2,
       "version_minor": 0
      },
      "text/plain": [
       "HBox(children=(Button(description='Next File', icon='arrow-circle-right', style=ButtonStyle(), tooltip='Next F…"
      ]
     },
     "metadata": {},
     "output_type": "display_data"
    }
   ],
   "source": [
    "nextFile = widgets.Button(description='Next File',\n",
    "                          disabled=False,\n",
    "                          button_style='', # 'success', 'info', 'warning', 'danger' or ''\n",
    "                          tooltip='Next File',\n",
    "                          icon='arrow-circle-right' # (FontAwesome names without the `fa-` prefix)\n",
    "                         )\n",
    "\n",
    "saveMask = widgets.Button(description='Save Mask',\n",
    "                          disabled=False,\n",
    "                          button_style='success', # 'success', 'info', 'warning', 'danger' or ''\n",
    "                          tooltip='Save Mask',\n",
    "                          icon='floppy-o' # (FontAwesome names without the `fa-` prefix)\n",
    "                         )\n",
    "\n",
    "saveROI = widgets.Button(description='Save ROI',\n",
    "                          disabled=False,\n",
    "                          button_style='warning', # 'success', 'info', 'warning', 'danger' or ''\n",
    "                          tooltip='Background Removed',\n",
    "                          icon='floppy-o' # (FontAwesome names without the `fa-` prefix)\n",
    "                         )\n",
    "\n",
    "clear = widgets.Button(description='Clear',\n",
    "                          disabled=False,\n",
    "                          button_style='danger', # 'success', 'info', 'warning', 'danger' or ''\n",
    "                          tooltip='Clear',\n",
    "                          icon='eraser' # (FontAwesome names without the `fa-` prefix)\n",
    "                         )\n",
    "\n",
    "saveBoxes = widgets.HBox([nextFile, saveMask, saveROI, clear], layout={'width':'100%', \n",
    "                                                                'padding':'0px 0px 0px 600px', # top right bottom left \n",
    "                                                                'align':'right'}) \n",
    "saveBoxes"
   ]
  },
  {
   "cell_type": "code",
   "execution_count": 11,
   "metadata": {},
   "outputs": [],
   "source": [
    "clickCount = 0\n",
    "\n",
    "def clickNextFile(b):\n",
    "    try:\n",
    "        global clickCount\n",
    "        textBox.value = upload.metadata[clickCount]['name']\n",
    "        print(f'On Canvas {textBox.value}.', end='\\r')\n",
    "        clickCount += 1\n",
    "    except:\n",
    "        clickCount = 0\n",
    "        print('Swiped all files thoroughly. Stopping the execution. Use \"Clear\" button to reuse!')\n",
    "        nextFile.disabled = True\n",
    "\n",
    "    \n",
    "def clickSaveMask(b):\n",
    "    mask, _ = createMask(textBox.value,\n",
    "                         low_hue.value, low_sat.value, low_val.value,\n",
    "                         upp_hue.value, upp_sat.value, upp_val.value, plot=False)\n",
    "    \n",
    "    # converting to one channel and saving the file\n",
    "    height, width = mask.shape\n",
    "    mask.resize(height, width, 1)\n",
    "    thresholding = np.where(mask < 100, 0, 255) # changing the array into two categories 0: background 1: object\n",
    "    name, ext = os.path.splitext(textBox.value)\n",
    "    if os.path.isdir(\"../Masks/\") != True:\n",
    "        os.makedirs('../Masks/')\n",
    "    cv2.imwrite('../Masks/' + name +'.png', thresholding)\n",
    "    print(f'Successfully saved {textBox.value} in folder \"Masks\".', end=\"\\r\")\n",
    "\n",
    "def clickSaveROI(b):\n",
    "    _, result = createMask(textBox.value,\n",
    "                         low_hue.value, low_sat.value, low_val.value,\n",
    "                         upp_hue.value, upp_sat.value, upp_val.value, plot=False)\n",
    "    result = cv2.cvtColor(result, cv2.COLOR_RGB2BGR)\n",
    "    if os.path.isdir(\"../ROI/\") != True:\n",
    "        os.makedirs('../ROI/')\n",
    "    cv2.imwrite('../ROI/' + textBox.value, result)\n",
    "    print(f'Successfully saved {textBox.value} in folder \"ROI\".', end=\"\\r\")\n",
    "\n",
    "def clickClear(b):\n",
    "#     upload._counter = 0\n",
    "    clear_output()\n",
    "    %run maskCreator_2.ipynb\n",
    "\n",
    "nextFile.on_click(clickNextFile)\n",
    "saveMask.on_click(clickSaveMask)\n",
    "saveROI.on_click(clickSaveROI)\n",
    "clear.on_click(clickClear)"
   ]
  },
  {
   "cell_type": "code",
   "execution_count": 12,
   "metadata": {},
   "outputs": [
    {
     "data": {
      "application/vnd.jupyter.widget-view+json": {
       "model_id": "d3f5836ed1d7466ca77bc3a893f57389",
       "version_major": 2,
       "version_minor": 0
      },
      "text/plain": [
       "HTML(value='<h5 style=\"color:Grey\"><left> --- Temporary Logs --- </center></h1>')"
      ]
     },
     "metadata": {},
     "output_type": "display_data"
    }
   ],
   "source": [
    "footer = widgets.HTML('<h5 style=\"color:Grey\"><left> --- Temporary Logs --- </center></h1>')\n",
    "footer"
   ]
  },
  {
   "cell_type": "markdown",
   "metadata": {},
   "source": [
    "# Final and Display"
   ]
  },
  {
   "cell_type": "code",
   "execution_count": 13,
   "metadata": {},
   "outputs": [],
   "source": [
    "final = widgets.VBox([title,\n",
    "                      uploadPane,\n",
    "                      meter,\n",
    "                      masking,\n",
    "                      saveBoxes,\n",
    "                      footer,\n",
    "                     ])"
   ]
  },
  {
   "cell_type": "code",
   "execution_count": 14,
   "metadata": {},
   "outputs": [
    {
     "data": {
      "application/vnd.jupyter.widget-view+json": {
       "model_id": "c3a61370508e4bb4ba25193f1ff4405d",
       "version_major": 2,
       "version_minor": 0
      },
      "text/plain": [
       "VBox(children=(HTML(value='<h1 style=\"color:Green\"><center> Welcome to Mask Creator </center></h1>'), HBox(chi…"
      ]
     },
     "metadata": {},
     "output_type": "display_data"
    }
   ],
   "source": [
    "display(final)"
   ]
  },
  {
   "cell_type": "markdown",
   "metadata": {},
   "source": [
    "# Yayyyyyy!"
   ]
  },
  {
   "cell_type": "code",
   "execution_count": 15,
   "metadata": {},
   "outputs": [],
   "source": [
    "# for requirements.txt\n",
    "# import watermark"
   ]
  },
  {
   "cell_type": "code",
   "execution_count": 16,
   "metadata": {},
   "outputs": [],
   "source": [
    "# %load_ext watermark\n",
    "# %watermark -v -m -p ipywidgets,IPython,cv2,numpy,matplotlib"
   ]
  },
  {
   "cell_type": "code",
   "execution_count": 17,
   "metadata": {},
   "outputs": [],
   "source": [
    "# os.getcwd()"
   ]
  },
  {
   "cell_type": "code",
   "execution_count": 18,
   "metadata": {},
   "outputs": [],
   "source": [
    "# files = next(os.walk(os.getcwd()))[2]\n",
    "# files"
   ]
  },
  {
   "cell_type": "code",
   "execution_count": 19,
   "metadata": {},
   "outputs": [],
   "source": [
    "# dirs = os.listdir()"
   ]
  },
  {
   "cell_type": "code",
   "execution_count": 20,
   "metadata": {},
   "outputs": [],
   "source": [
    "# type(dirs)"
   ]
  },
  {
   "cell_type": "code",
   "execution_count": 21,
   "metadata": {},
   "outputs": [],
   "source": [
    "# for file in files:\n",
    "#     print(len(files))"
   ]
  },
  {
   "cell_type": "code",
   "execution_count": null,
   "metadata": {},
   "outputs": [],
   "source": []
  }
 ],
 "metadata": {
  "kernelspec": {
   "display_name": "Python 3",
   "language": "python",
   "name": "python3"
  },
  "language_info": {
   "codemirror_mode": {
    "name": "ipython",
    "version": 3
   },
   "file_extension": ".py",
   "mimetype": "text/x-python",
   "name": "python",
   "nbconvert_exporter": "python",
   "pygments_lexer": "ipython3",
   "version": "3.8.3"
  }
 },
 "nbformat": 4,
 "nbformat_minor": 4
}
